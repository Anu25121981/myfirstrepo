{
 "cells": [
  {
   "cell_type": "code",
   "execution_count": 2,
   "id": "43b87397",
   "metadata": {},
   "outputs": [
    {
     "name": "stdout",
     "output_type": "stream",
     "text": [
      "Hello\n"
     ]
    }
   ],
   "source": [
    "msg='Hello'\n",
    "print (msg)\n"
   ]
  },
  {
   "cell_type": "code",
   "execution_count": 3,
   "id": "73dad09c",
   "metadata": {},
   "outputs": [
    {
     "name": "stdout",
     "output_type": "stream",
     "text": [
      "H_e_l_l_o\n"
     ]
    }
   ],
   "source": [
    "print('_'.join(msg))"
   ]
  },
  {
   "cell_type": "code",
   "execution_count": 4,
   "id": "9f9ecfdb",
   "metadata": {},
   "outputs": [
    {
     "name": "stdout",
     "output_type": "stream",
     "text": [
      "H-e-l-l-o\n"
     ]
    }
   ],
   "source": [
    "print('-'.join(msg))"
   ]
  },
  {
   "cell_type": "code",
   "execution_count": 6,
   "id": "fed419db",
   "metadata": {},
   "outputs": [
    {
     "name": "stdout",
     "output_type": "stream",
     "text": [
      "HELLO\n"
     ]
    }
   ],
   "source": [
    "print(msg.upper())"
   ]
  },
  {
   "cell_type": "code",
   "execution_count": 7,
   "id": "07ef34b4",
   "metadata": {},
   "outputs": [
    {
     "name": "stdout",
     "output_type": "stream",
     "text": [
      "hello\n"
     ]
    }
   ],
   "source": [
    "print(msg.lower())"
   ]
  },
  {
   "cell_type": "code",
   "execution_count": 8,
   "id": "9c48edbc",
   "metadata": {},
   "outputs": [
    {
     "ename": "AttributeError",
     "evalue": "'str' object has no attribute 'capital'",
     "output_type": "error",
     "traceback": [
      "\u001b[1;31m---------------------------------------------------------------------------\u001b[0m",
      "\u001b[1;31mAttributeError\u001b[0m                            Traceback (most recent call last)",
      "\u001b[1;32m~\\AppData\\Local\\Temp/ipykernel_6980/2123931593.py\u001b[0m in \u001b[0;36m<module>\u001b[1;34m\u001b[0m\n\u001b[1;32m----> 1\u001b[1;33m \u001b[0mprint\u001b[0m\u001b[1;33m(\u001b[0m\u001b[0mmsg\u001b[0m\u001b[1;33m.\u001b[0m\u001b[0mcapital\u001b[0m\u001b[1;33m(\u001b[0m\u001b[1;33m)\u001b[0m\u001b[1;33m)\u001b[0m\u001b[1;33m\u001b[0m\u001b[1;33m\u001b[0m\u001b[0m\n\u001b[0m",
      "\u001b[1;31mAttributeError\u001b[0m: 'str' object has no attribute 'capital'"
     ]
    }
   ],
   "source": [
    "print(msg.capital())"
   ]
  },
  {
   "cell_type": "code",
   "execution_count": 9,
   "id": "75aa87aa",
   "metadata": {},
   "outputs": [
    {
     "name": "stdout",
     "output_type": "stream",
     "text": [
      "True\n"
     ]
    }
   ],
   "source": [
    "print('lo'in msg)"
   ]
  },
  {
   "cell_type": "code",
   "execution_count": 10,
   "id": "f83d6943",
   "metadata": {},
   "outputs": [
    {
     "name": "stdout",
     "output_type": "stream",
     "text": [
      "False\n"
     ]
    }
   ],
   "source": [
    "print('ao'in msg)"
   ]
  },
  {
   "cell_type": "code",
   "execution_count": 11,
   "id": "62bc15d1",
   "metadata": {},
   "outputs": [
    {
     "name": "stdout",
     "output_type": "stream",
     "text": [
      "Hello\n"
     ]
    }
   ],
   "source": [
    "print(msg.capitalize())"
   ]
  },
  {
   "cell_type": "code",
   "execution_count": 19,
   "id": "fc16e91a",
   "metadata": {},
   "outputs": [
    {
     "name": "stdout",
     "output_type": "stream",
     "text": [
      "her Age is 34 years\n"
     ]
    }
   ],
   "source": [
    "age=34\n",
    "print('her Age is '+ str(age) + ' years')"
   ]
  },
  {
   "cell_type": "code",
   "execution_count": 22,
   "id": "43cd78a0",
   "metadata": {},
   "outputs": [
    {
     "name": "stdout",
     "output_type": "stream",
     "text": [
      "the terrible tiger tore the towel\n"
     ]
    }
   ],
   "source": [
    "s='The Terrible Tiger Tore The Towel'\n",
    "\n",
    "\n",
    "s=s.replace('T','t')\n",
    "print(s)"
   ]
  },
  {
   "cell_type": "code",
   "execution_count": 33,
   "id": "4e4c09e7",
   "metadata": {},
   "outputs": [
    {
     "name": "stdout",
     "output_type": "stream",
     "text": [
      "5\n",
      "7\n",
      "Visit Ykanetkar.Com For Online Courses In Programming Into\n",
      "vISIT yKANETKAR.cOM fOR oNLINE cOURSES iN pROGRAMMING iNTO\n"
     ]
    }
   ],
   "source": [
    "s='Visit ykanetkar.com for online courses in programming into'\n",
    "pos=s.find(' ',0)\n",
    "print(pos)\n",
    "pos=pos+1\n",
    "s=s.title()\n",
    "c=s.count(' ')\n",
    "print (c)\n",
    "\n",
    "print(s)\n",
    "print(s.swapcase())"
   ]
  },
  {
   "cell_type": "code",
   "execution_count": 31,
   "id": "1b586722",
   "metadata": {},
   "outputs": [
    {
     "name": "stdout",
     "output_type": "stream",
     "text": [
      "Visit ykanetkar.com for online courses in programming into\n"
     ]
    }
   ],
   "source": [
    "s='Visit ykanetkar.com for online courses in programming into'\n",
    "print(s.capitalize())\n"
   ]
  },
  {
   "cell_type": "code",
   "execution_count": null,
   "id": "1fd0d140",
   "metadata": {},
   "outputs": [],
   "source": []
  }
 ],
 "metadata": {
  "kernelspec": {
   "display_name": "Python 3 (ipykernel)",
   "language": "python",
   "name": "python3"
  },
  "language_info": {
   "codemirror_mode": {
    "name": "ipython",
    "version": 3
   },
   "file_extension": ".py",
   "mimetype": "text/x-python",
   "name": "python",
   "nbconvert_exporter": "python",
   "pygments_lexer": "ipython3",
   "version": "3.9.7"
  }
 },
 "nbformat": 4,
 "nbformat_minor": 5
}
